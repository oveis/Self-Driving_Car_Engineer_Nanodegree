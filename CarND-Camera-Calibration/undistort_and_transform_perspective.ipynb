{
 "cells": [
  {
   "cell_type": "code",
   "execution_count": 1,
   "metadata": {},
   "outputs": [
    {
     "data": {
      "text/html": [
       "<style> code {background-color : pink !important;} </style>\n"
      ],
      "text/plain": [
       "<IPython.core.display.HTML object>"
      ]
     },
     "metadata": {},
     "output_type": "display_data"
    }
   ],
   "source": [
    "%%HTML\n",
    "<style> code {background-color : pink !important;} </style>"
   ]
  },
  {
   "cell_type": "code",
   "execution_count": 1,
   "metadata": {},
   "outputs": [],
   "source": [
    "import pickle\n",
    "import cv2\n",
    "import numpy as np\n",
    "import matplotlib.pyplot as plt\n",
    "import matplotlib.image as mpimg\n",
    "%matplotlib qt\n",
    "\n",
    "# Read in the saved camera matrix and distortion coefficients\n",
    "# These are the arrays you calculated using cv2.calibrateCamera()\n",
    "dist_pickle = pickle.load( open( \"wide_dist_pickle.p\", \"rb\" ) )\n",
    "mtx = dist_pickle[\"mtx\"]\n",
    "dist = dist_pickle[\"dist\"]\n",
    "\n",
    "# Read in an image\n",
    "img = cv2.imread('test_image2.png')\n",
    "nx = 8 # the number of inside corners in x\n",
    "ny = 6 # the number of inside corners in y\n",
    "\n",
    "# MODIFY THIS FUNCTION TO GENERATE OUTPUT \n",
    "# THAT LOOKS LIKE THE IMAGE ABOVE\n",
    "def corners_unwarp(img, nx, ny, mtx, dist):\n",
    "    # Pass in your image into this function\n",
    "    # Write code to do the following steps\n",
    "    # 1) Undistort using mtx and dist\n",
    "    img = cv2.undistort(img, mtx, dist, None, mtx)\n",
    "    \n",
    "    # 2) Convert to grayscale\n",
    "    gray = cv2.cvtColor(img, cv2.COLOR_BGR2GRAY)\n",
    "    \n",
    "    # 3) Find the chessboard corners\n",
    "    ret, corners = cv2.findChessboardCorners(gray, (nx, ny), None)\n",
    "#     print(corners)\n",
    "    \n",
    "    # 4) If corners found: \n",
    "    if ret == True:\n",
    "        # a) draw corners\n",
    "        cv2.drawChessboardCorners(img, (nx, ny), corners, ret)\n",
    "        plt.imshow(img)\n",
    "#         cv2.imshow('img', img)\n",
    "        cv2.waitKey(500)\n",
    "\n",
    "        # b) define 4 source points src = np.float32([[,],[,],[,],[,]])\n",
    "             #Note: you could pick any four of the detected corners \n",
    "             # as long as those four corners define a rectangle\n",
    "             #One especially smart way to do this would be to use four well-chosen\n",
    "             # corners that were automatically detected during the undistortion steps\n",
    "             #We recommend using the automatic detection of corners in your code\n",
    "\n",
    "        # c) define 4 destination points dst = np.float32([[,],[,],[,],[,]])\n",
    "        # d) use cv2.getPerspectiveTransform() to get M, the transform matrix\n",
    "        # e) use cv2.warpPerspective() to warp your image to a top-down view\n",
    "    #delete the next two lines\n",
    "    M = None\n",
    "    warped = np.copy(img) \n",
    "    return warped, M\n",
    "\n",
    "# img = mpimg.imread('test_image2.png')\n",
    "# plt.imshow(img)\n",
    "# cv2.waitKey(500)\n",
    "\n",
    "# top_down, perspective_M = corners_unwarp(img, nx, ny, mtx, dist)\n",
    "# f, (ax1, ax2) = plt.subplots(1, 2, figsize=(24, 9))\n",
    "# f.tight_layout()\n",
    "# ax1.imshow(img)\n",
    "# ax1.set_title('Original Image', fontsize=50)\n",
    "# ax2.imshow(top_down)\n",
    "# ax2.set_title('Undistorted and Warped Image', fontsize=50)\n",
    "# plt.subplots_adjust(left=0., right=1, top=0.9, bottom=0.)\n"
   ]
  },
  {
   "cell_type": "code",
   "execution_count": 1,
   "metadata": {},
   "outputs": [
    {
     "data": {
      "text/plain": [
       "'2.2.2'"
      ]
     },
     "execution_count": 1,
     "metadata": {},
     "output_type": "execute_result"
    }
   ],
   "source": [
    "import matplotlib\n",
    "matplotlib.__version__"
   ]
  }
 ],
 "metadata": {
  "kernelspec": {
   "display_name": "Python 3",
   "language": "python",
   "name": "python3"
  },
  "language_info": {
   "codemirror_mode": {
    "name": "ipython",
    "version": 3
   },
   "file_extension": ".py",
   "mimetype": "text/x-python",
   "name": "python",
   "nbconvert_exporter": "python",
   "pygments_lexer": "ipython3",
   "version": "3.5.2"
  },
  "widgets": {
   "state": {},
   "version": "1.1.2"
  }
 },
 "nbformat": 4,
 "nbformat_minor": 2
}
